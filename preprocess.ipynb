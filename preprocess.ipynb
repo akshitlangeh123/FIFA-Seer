{
 "cells": [
  {
   "cell_type": "code",
   "execution_count": 3,
   "metadata": {},
   "outputs": [
    {
     "name": "stderr",
     "output_type": "stream",
     "text": [
      "/Users/roarke/projects/FIFA Seer/env/lib/python3.9/site-packages/urllib3/__init__.py:35: NotOpenSSLWarning: urllib3 v2 only supports OpenSSL 1.1.1+, currently the 'ssl' module is compiled with 'LibreSSL 2.8.3'. See: https://github.com/urllib3/urllib3/issues/3020\n",
      "  warnings.warn(\n"
     ]
    }
   ],
   "source": [
    "import pandas as pd\n",
    "import numpy as np\n",
    "import tensorflow as tf\n",
    "from sklearn.preprocessing import OneHotEncoder\n",
    "from sklearn.preprocessing import LabelEncoder\n",
    "from sklearn.model_selection import train_test_split"
   ]
  },
  {
   "cell_type": "code",
   "execution_count": null,
   "metadata": {},
   "outputs": [],
   "source": [
    "# players_df = pd.read_csv(\"players_21.csv\")\n",
    "# num_rows = players_df.shape[0]\n",
    "# num_col = players_df.shape[1]\n",
    "\n",
    "# print(\"rows: {}, cols: {}\".format(num_rows,num_col))"
   ]
  },
  {
   "cell_type": "code",
   "execution_count": null,
   "metadata": {},
   "outputs": [],
   "source": [
    "# pd.set_option('display.max_columns',None)\n",
    "# players_df.head()"
   ]
  },
  {
   "cell_type": "code",
   "execution_count": null,
   "metadata": {},
   "outputs": [],
   "source": [
    "# columns_to_be_removed = [\"sofifa_id\", \"player_url\", \"long_name\", \"dob\", \"league_rank\", \"body_type\", \"real_face\", \"release_clause_eur\", \n",
    "#                          \"loaned_from\", \"joined\", \"contract_valid_until\", \"team_jersey_number\", \"nation_jersey_number\", \"gk_diving\", \"gk_handling\", \n",
    "#                          \"gk_kicking\", \"gk_reflexes\", \"gk_speed\", \"gk_positioning\", \"goalkeeping_diving\", \"goalkeeping_handling\", \"goalkeeping_kicking\",\n",
    "#                            \"goalkeeping_positioning\", \"goalkeeping_reflexes\"]\n",
    "\n",
    "# players_df.drop(columns=columns_to_be_removed, axis=1, inplace=True)\n",
    "\n",
    "# players_df.head()"
   ]
  },
  {
   "cell_type": "code",
   "execution_count": null,
   "metadata": {},
   "outputs": [],
   "source": [
    "# positions_split = players_df['player_positions'].str.split(',').apply(lambda x: [pos.strip() for pos in x])\n",
    "# positions_exploded = positions_split.explode()\n",
    "\n",
    "# encoder = OneHotEncoder(sparse_output=False)\n",
    "\n",
    "# encoded_positions = encoder.fit_transform(positions_exploded.to_numpy().reshape(-1, 1))\n",
    "\n",
    "# position_columns = encoder.get_feature_names_out(['positions'])\n",
    "# encoded_positions_df = pd.DataFrame(encoded_positions, columns=position_columns, index=positions_exploded.index)\n",
    "# encoded_positions_df = encoded_positions_df.groupby(encoded_positions_df.index).max()\n",
    "\n",
    "# position_col_index = players_df.columns.get_loc('player_positions')\n",
    "# df_before = players_df.iloc[:,:position_col_index+1]\n",
    "# df_after = players_df.iloc[:,position_col_index+1:]\n",
    "\n",
    "# players_df = pd.concat([df_before, encoded_positions_df, df_after], axis=1)\n",
    "\n",
    "# players_df.drop(columns=['player_positions'], axis=1, inplace=True)\n",
    "\n",
    "# players_df.head()"
   ]
  },
  {
   "cell_type": "code",
   "execution_count": null,
   "metadata": {},
   "outputs": [],
   "source": [
    "# players_df.drop(columns=['team_position', 'nation_position'], axis=1, inplace=True)\n",
    "# null_val = players_df.isnull().sum()\n",
    "# null_val = null_val[null_val > 0]\n",
    "# null_val"
   ]
  },
  {
   "cell_type": "code",
   "execution_count": null,
   "metadata": {},
   "outputs": [],
   "source": [
    "# players_df = players_df.dropna(subset=['club_name','league_name','pace','shooting','passing','dribbling','defending','physic'])\n",
    "# null_val = players_df.isnull().sum()\n",
    "# null_val = null_val[null_val > 0]\n",
    "# null_val"
   ]
  },
  {
   "cell_type": "code",
   "execution_count": null,
   "metadata": {},
   "outputs": [],
   "source": [
    "# players_df.drop(columns=['defending_marking'], axis=1, inplace=True)\n",
    "# null_val = players_df.isnull().sum()\n",
    "# null_val = null_val[null_val > 0]\n",
    "# null_val"
   ]
  },
  {
   "cell_type": "code",
   "execution_count": null,
   "metadata": {},
   "outputs": [],
   "source": [
    "# players_df['player_tags'] = players_df['player_tags'].fillna(\"#no_tag\")\n",
    "# players_df['player_traits'] = players_df['player_traits'].fillna(\"no_trait\")\n",
    "# null_val = players_df.isnull().sum()\n",
    "# null_val = null_val[null_val > 0]\n",
    "# null_val"
   ]
  },
  {
   "cell_type": "code",
   "execution_count": null,
   "metadata": {},
   "outputs": [],
   "source": [
    "# players_tags_split = players_df['player_tags'].str.split(',').apply(lambda x: [pos.strip() for pos in x])\n",
    "# players_tags_exploded = players_tags_split.explode()\n",
    "\n",
    "# encoder = OneHotEncoder(sparse_output=False)\n",
    "\n",
    "# encoded_tags = encoder.fit_transform(players_tags_exploded.to_numpy().reshape(-1,1))\n",
    "\n",
    "# tags_columns = encoder.get_feature_names_out([''])\n",
    "# players_tags_df = pd.DataFrame(encoded_tags, columns=tags_columns, index=players_tags_exploded.index)\n",
    "# players_tags_df = players_tags_df.groupby(players_tags_df.index).max()\n",
    "\n",
    "# tags_col_pos = players_df.columns.get_loc('player_tags')\n",
    "# df_before = players_df.iloc[:, :tags_col_pos]\n",
    "# df_after = players_df.iloc[:, tags_col_pos+1:]\n",
    "\n",
    "# players_df = pd.concat([df_before, players_tags_df, df_after], axis=1)\n",
    "# players_df.head()"
   ]
  },
  {
   "cell_type": "code",
   "execution_count": null,
   "metadata": {},
   "outputs": [],
   "source": [
    "# players_traits_split = players_df['player_traits'].str.split(',').apply(lambda x: [pos.strip() for pos in x])\n",
    "# players_traits_exploded = players_traits_split.explode()\n",
    "\n",
    "# encoder = OneHotEncoder(sparse_output=False)\n",
    "\n",
    "# encoded_traits = encoder.fit_transform(players_traits_exploded.to_numpy().reshape(-1,1))\n",
    "\n",
    "# traits_columns = encoder.get_feature_names_out([''])\n",
    "# players_traits_df = pd.DataFrame(encoded_traits, columns=traits_columns, index=players_traits_exploded.index)\n",
    "# players_traits_df = players_traits_df.groupby(players_traits_df.index).max()\n",
    "\n",
    "# traits_col_pos = players_df.columns.get_loc('player_traits')\n",
    "# df_before = players_df.iloc[:, :traits_col_pos]\n",
    "# df_after = players_df.iloc[:, traits_col_pos+1:]\n",
    "\n",
    "# players_df = pd.concat([df_before, players_traits_df, df_after], axis=1)\n",
    "# players_df.head()"
   ]
  },
  {
   "cell_type": "code",
   "execution_count": null,
   "metadata": {},
   "outputs": [],
   "source": [
    "# columns_to_be_removed = ['ls','st','rs','lw','lf','cf','rf','rw','lam','cam','ram','lm','lcm','cm','rcm','rm','lwb','ldm','cdm','rdm',\n",
    "#                          'rwb','lb','lcb','cb','rcb','rb']\n",
    "\n",
    "# players_df.drop(columns=columns_to_be_removed, axis=1, inplace=True)\n",
    "# players_df.head()"
   ]
  },
  {
   "cell_type": "code",
   "execution_count": 14,
   "metadata": {},
   "outputs": [],
   "source": [
    "# def emb_split(col_name):\n",
    "#     label_encoder = LabelEncoder()\n",
    "#     players_df[col_name] = label_encoder.fit_transform(players_df[col_name])\n",
    "#     X_train, X_val, y_train, y_val = train_test_split(players_df[col_name], players_df['overall'], test_size=0.2)\n",
    "#     return X_train, X_val, y_train, y_val"
   ]
  },
  {
   "cell_type": "code",
   "execution_count": 15,
   "metadata": {},
   "outputs": [],
   "source": [
    "# def train_emb_col(emb_dim, col_name):\n",
    "#     num_categ = players_df[col_name].nunique()\n",
    "#     X_train, X_val, y_train, y_val = emb_split(col_name)\n",
    "#     best_loss = float('inf')\n",
    "#     best_dim = None\n",
    "#     best_model = None\n",
    "#     for i in emb_dim:\n",
    "#         input_categ = tf.keras.Input(shape=(1,), dtype=tf.int32)\n",
    "#         embedding = tf.keras.layers.Embedding(input_dim=num_categ, output_dim=i, name='embedding_layer')(input_categ)\n",
    "#         output = tf.keras.layers.Flatten()(embedding)\n",
    "#         model = tf.keras.Model(inputs=input_categ, outputs=output)\n",
    "#         model.compile(optimizer='adam', loss='mean_squared_error')\n",
    "#         model.fit(X_train, y_train, epochs=10)\n",
    "#         val_loss = model.evaluate(X_val, y_val)\n",
    "#         if val_loss < best_loss:\n",
    "#             best_loss = val_loss\n",
    "#             best_dim = i\n",
    "#             best_model = model\n",
    "#     return best_model, best_dim"
   ]
  },
  {
   "cell_type": "code",
   "execution_count": 16,
   "metadata": {},
   "outputs": [],
   "source": [
    "# def emb_df(col_name):\n",
    "#     model, best_dim = train_emb_col([2,4,8,16],col_name)\n",
    "#     emb_layer = model.get_layer('embedding_layer')\n",
    "#     emb_wt = emb_layer.get_weights()[0]\n",
    "#     emb_vec = players_df[col_name].apply(lambda x: emb_wt[x])\n",
    "#     emb_df = pd.DataFrame(emb_vec.tolist(), columns=[f'{col_name}_emb_{i}' for i in range(best_dim)])\n",
    "#     return emb_df"
   ]
  },
  {
   "cell_type": "code",
   "execution_count": null,
   "metadata": {},
   "outputs": [],
   "source": [
    "# club_emb_df = emb_df('club_name')"
   ]
  },
  {
   "cell_type": "code",
   "execution_count": null,
   "metadata": {},
   "outputs": [],
   "source": [
    "# nation_emb_df = emb_df('nationality')"
   ]
  },
  {
   "cell_type": "code",
   "execution_count": null,
   "metadata": {},
   "outputs": [],
   "source": [
    "# league_emb_df = emb_df('league_name')"
   ]
  },
  {
   "cell_type": "code",
   "execution_count": null,
   "metadata": {},
   "outputs": [],
   "source": [
    "# club_col_pos = players_df.columns.get_loc('club_name')\n",
    "# df_before = players_df.iloc[:, :club_col_pos]\n",
    "# df_after = players_df.iloc[:, club_col_pos+1:]\n",
    "# players_df = pd.concat([df_before,club_emb_df,df_after], axis=1)\n",
    "# players_df.head()"
   ]
  },
  {
   "cell_type": "code",
   "execution_count": null,
   "metadata": {},
   "outputs": [],
   "source": [
    "# nation_col_pos = players_df.columns.get_loc('nationality')\n",
    "# df_before = players_df.iloc[:, :nation_col_pos]\n",
    "# df_after = players_df.iloc[:, nation_col_pos+1:]\n",
    "# players_df = pd.concat([df_before,nation_emb_df,df_after], axis=1)\n",
    "# players_df.head()"
   ]
  },
  {
   "cell_type": "code",
   "execution_count": null,
   "metadata": {},
   "outputs": [],
   "source": [
    "# league_col_pos = players_df.columns.get_loc('league_name')\n",
    "# df_before = players_df.iloc[:, :league_col_pos]\n",
    "# df_after = players_df.iloc[:, league_col_pos+1:]\n",
    "# players_df = pd.concat([df_before,league_emb_df,df_after], axis=1)\n",
    "# players_df.head()"
   ]
  },
  {
   "cell_type": "code",
   "execution_count": 23,
   "metadata": {},
   "outputs": [],
   "source": [
    "# players_df.to_csv('emb_players_21.csv', index=False)"
   ]
  }
 ],
 "metadata": {
  "kernelspec": {
   "display_name": "env",
   "language": "python",
   "name": "python3"
  },
  "language_info": {
   "codemirror_mode": {
    "name": "ipython",
    "version": 3
   },
   "file_extension": ".py",
   "mimetype": "text/x-python",
   "name": "python",
   "nbconvert_exporter": "python",
   "pygments_lexer": "ipython3",
   "version": "3.9.6"
  }
 },
 "nbformat": 4,
 "nbformat_minor": 2
}
